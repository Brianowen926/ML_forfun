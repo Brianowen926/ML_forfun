{
 "cells": [
  {
   "cell_type": "markdown",
   "id": "c5b7075d",
   "metadata": {},
   "source": [
    "# Student Stress Level\n",
    "Diambil dari Kaggle <a href = https://www.kaggle.com/datasets/poushal02/student-academic-stress-real-world-dataset>Link</a> <br>\n",
    "Tujuan dataset ini memprediksi TINGKAT STRESS berdasarkan fitur-fitur yang ada"
   ]
  },
  {
   "cell_type": "code",
   "execution_count": 1,
   "id": "cd805bd9",
   "metadata": {},
   "outputs": [],
   "source": [
    "import numpy as np\n",
    "import matplotlib.pyplot as plt\n",
    "import pandas as pd\n",
    "import seaborn as sns\n",
    "from sklearn.preprocessing import OneHotEncoder"
   ]
  },
  {
   "cell_type": "code",
   "execution_count": 2,
   "id": "648cb603",
   "metadata": {},
   "outputs": [
    {
     "data": {
      "text/html": [
       "<div>\n",
       "<style scoped>\n",
       "    .dataframe tbody tr th:only-of-type {\n",
       "        vertical-align: middle;\n",
       "    }\n",
       "\n",
       "    .dataframe tbody tr th {\n",
       "        vertical-align: top;\n",
       "    }\n",
       "\n",
       "    .dataframe thead th {\n",
       "        text-align: right;\n",
       "    }\n",
       "</style>\n",
       "<table border=\"1\" class=\"dataframe\">\n",
       "  <thead>\n",
       "    <tr style=\"text-align: right;\">\n",
       "      <th></th>\n",
       "      <th>Timestamp</th>\n",
       "      <th>Your Academic Stage</th>\n",
       "      <th>Peer pressure</th>\n",
       "      <th>Academic pressure from your home</th>\n",
       "      <th>Study Environment</th>\n",
       "      <th>What coping strategy you use as a student?</th>\n",
       "      <th>Do you have any bad habits like smoking, drinking on a daily basis?</th>\n",
       "      <th>What would you rate the academic  competition in your student life</th>\n",
       "      <th>Rate your academic stress index</th>\n",
       "    </tr>\n",
       "  </thead>\n",
       "  <tbody>\n",
       "    <tr>\n",
       "      <th>0</th>\n",
       "      <td>24/07/2025 22:05:39</td>\n",
       "      <td>undergraduate</td>\n",
       "      <td>4</td>\n",
       "      <td>5</td>\n",
       "      <td>Noisy</td>\n",
       "      <td>Analyze the situation and handle it with intel...</td>\n",
       "      <td>No</td>\n",
       "      <td>3</td>\n",
       "      <td>5</td>\n",
       "    </tr>\n",
       "    <tr>\n",
       "      <th>1</th>\n",
       "      <td>24/07/2025 22:05:52</td>\n",
       "      <td>undergraduate</td>\n",
       "      <td>3</td>\n",
       "      <td>4</td>\n",
       "      <td>Peaceful</td>\n",
       "      <td>Analyze the situation and handle it with intel...</td>\n",
       "      <td>No</td>\n",
       "      <td>3</td>\n",
       "      <td>3</td>\n",
       "    </tr>\n",
       "    <tr>\n",
       "      <th>2</th>\n",
       "      <td>24/07/2025 22:06:39</td>\n",
       "      <td>undergraduate</td>\n",
       "      <td>1</td>\n",
       "      <td>1</td>\n",
       "      <td>Peaceful</td>\n",
       "      <td>Social support (friends, family)</td>\n",
       "      <td>No</td>\n",
       "      <td>2</td>\n",
       "      <td>4</td>\n",
       "    </tr>\n",
       "    <tr>\n",
       "      <th>3</th>\n",
       "      <td>24/07/2025 22:06:45</td>\n",
       "      <td>undergraduate</td>\n",
       "      <td>3</td>\n",
       "      <td>2</td>\n",
       "      <td>Peaceful</td>\n",
       "      <td>Analyze the situation and handle it with intel...</td>\n",
       "      <td>No</td>\n",
       "      <td>4</td>\n",
       "      <td>3</td>\n",
       "    </tr>\n",
       "    <tr>\n",
       "      <th>4</th>\n",
       "      <td>24/07/2025 22:08:06</td>\n",
       "      <td>undergraduate</td>\n",
       "      <td>3</td>\n",
       "      <td>3</td>\n",
       "      <td>Peaceful</td>\n",
       "      <td>Analyze the situation and handle it with intel...</td>\n",
       "      <td>No</td>\n",
       "      <td>4</td>\n",
       "      <td>5</td>\n",
       "    </tr>\n",
       "  </tbody>\n",
       "</table>\n",
       "</div>"
      ],
      "text/plain": [
       "             Timestamp Your Academic Stage  Peer pressure  \\\n",
       "0  24/07/2025 22:05:39       undergraduate              4   \n",
       "1  24/07/2025 22:05:52       undergraduate              3   \n",
       "2  24/07/2025 22:06:39       undergraduate              1   \n",
       "3  24/07/2025 22:06:45       undergraduate              3   \n",
       "4  24/07/2025 22:08:06       undergraduate              3   \n",
       "\n",
       "   Academic pressure from your home Study Environment  \\\n",
       "0                                 5             Noisy   \n",
       "1                                 4          Peaceful   \n",
       "2                                 1          Peaceful   \n",
       "3                                 2          Peaceful   \n",
       "4                                 3          Peaceful   \n",
       "\n",
       "          What coping strategy you use as a student?  \\\n",
       "0  Analyze the situation and handle it with intel...   \n",
       "1  Analyze the situation and handle it with intel...   \n",
       "2                   Social support (friends, family)   \n",
       "3  Analyze the situation and handle it with intel...   \n",
       "4  Analyze the situation and handle it with intel...   \n",
       "\n",
       "  Do you have any bad habits like smoking, drinking on a daily basis?  \\\n",
       "0                                                 No                    \n",
       "1                                                 No                    \n",
       "2                                                 No                    \n",
       "3                                                 No                    \n",
       "4                                                 No                    \n",
       "\n",
       "   What would you rate the academic  competition in your student life  \\\n",
       "0                                                  3                    \n",
       "1                                                  3                    \n",
       "2                                                  2                    \n",
       "3                                                  4                    \n",
       "4                                                  4                    \n",
       "\n",
       "   Rate your academic stress index   \n",
       "0                                 5  \n",
       "1                                 3  \n",
       "2                                 4  \n",
       "3                                 3  \n",
       "4                                 5  "
      ]
     },
     "execution_count": 2,
     "metadata": {},
     "output_type": "execute_result"
    }
   ],
   "source": [
    "data = pd.read_csv(r\"D:\\BOOTCAMP\\datasets\\academic Stress level.csv\")\n",
    "data.head()"
   ]
  },
  {
   "cell_type": "code",
   "execution_count": 3,
   "id": "784cded7",
   "metadata": {},
   "outputs": [
    {
     "data": {
      "text/plain": [
       "Index(['Timestamp', 'Your Academic Stage', 'Peer pressure',\n",
       "       'Academic pressure from your home', 'Study Environment',\n",
       "       'What coping strategy you use as a student?',\n",
       "       'Do you have any bad habits like smoking, drinking on a daily basis?',\n",
       "       'What would you rate the academic  competition in your student life',\n",
       "       'Rate your academic stress index '],\n",
       "      dtype='object')"
      ]
     },
     "execution_count": 3,
     "metadata": {},
     "output_type": "execute_result"
    }
   ],
   "source": [
    "data.columns"
   ]
  },
  {
   "cell_type": "code",
   "execution_count": 4,
   "id": "a47ebcfa",
   "metadata": {},
   "outputs": [
    {
     "name": "stdout",
     "output_type": "stream",
     "text": [
      "<class 'pandas.core.frame.DataFrame'>\n",
      "RangeIndex: 140 entries, 0 to 139\n",
      "Data columns (total 9 columns):\n",
      " #   Column                                                               Non-Null Count  Dtype \n",
      "---  ------                                                               --------------  ----- \n",
      " 0   Timestamp                                                            140 non-null    object\n",
      " 1   Your Academic Stage                                                  140 non-null    object\n",
      " 2   Peer pressure                                                        140 non-null    int64 \n",
      " 3   Academic pressure from your home                                     140 non-null    int64 \n",
      " 4   Study Environment                                                    139 non-null    object\n",
      " 5   What coping strategy you use as a student?                           140 non-null    object\n",
      " 6   Do you have any bad habits like smoking, drinking on a daily basis?  140 non-null    object\n",
      " 7   What would you rate the academic  competition in your student life   140 non-null    int64 \n",
      " 8   Rate your academic stress index                                      140 non-null    int64 \n",
      "dtypes: int64(4), object(5)\n",
      "memory usage: 10.0+ KB\n"
     ]
    }
   ],
   "source": [
    "data.info()"
   ]
  },
  {
   "cell_type": "code",
   "execution_count": 5,
   "id": "f0c3f95b",
   "metadata": {},
   "outputs": [
    {
     "data": {
      "text/plain": [
       "(140, 9)"
      ]
     },
     "execution_count": 5,
     "metadata": {},
     "output_type": "execute_result"
    }
   ],
   "source": [
    "data.shape"
   ]
  },
  {
   "cell_type": "code",
   "execution_count": 9,
   "id": "e08c25a3",
   "metadata": {},
   "outputs": [
    {
     "data": {
      "text/plain": [
       "<Axes: >"
      ]
     },
     "execution_count": 9,
     "metadata": {},
     "output_type": "execute_result"
    },
    {
     "data": {
      "image/png": "[encoded data removed]",
      "text/plain": [
       "<Figure size 640x480 with 2 Axes>"
      ]
     },
     "metadata": {},
     "output_type": "display_data"
    }
   ],
   "source": [
    "sns.heatmap(data.corr(numeric_only=True), annot=True)"
   ]
  },
  {
   "cell_type": "code",
   "execution_count": 10,
   "id": "76f8bdb0",
   "metadata": {},
   "outputs": [
    {
     "data": {
      "text/html": [
       "<div>\n",
       "<style scoped>\n",
       "    .dataframe tbody tr th:only-of-type {\n",
       "        vertical-align: middle;\n",
       "    }\n",
       "\n",
       "    .dataframe tbody tr th {\n",
       "        vertical-align: top;\n",
       "    }\n",
       "\n",
       "    .dataframe thead th {\n",
       "        text-align: right;\n",
       "    }\n",
       "</style>\n",
       "<table border=\"1\" class=\"dataframe\">\n",
       "  <thead>\n",
       "    <tr style=\"text-align: right;\">\n",
       "      <th></th>\n",
       "      <th>Peer pressure</th>\n",
       "      <th>Academic pressure from your home</th>\n",
       "      <th>What would you rate the academic  competition in your student life</th>\n",
       "      <th>Rate your academic stress index</th>\n",
       "    </tr>\n",
       "  </thead>\n",
       "  <tbody>\n",
       "    <tr>\n",
       "      <th>count</th>\n",
       "      <td>140.000000</td>\n",
       "      <td>140.000000</td>\n",
       "      <td>140.000000</td>\n",
       "      <td>140.000000</td>\n",
       "    </tr>\n",
       "    <tr>\n",
       "      <th>mean</th>\n",
       "      <td>3.071429</td>\n",
       "      <td>3.178571</td>\n",
       "      <td>3.492857</td>\n",
       "      <td>3.721429</td>\n",
       "    </tr>\n",
       "    <tr>\n",
       "      <th>std</th>\n",
       "      <td>1.083844</td>\n",
       "      <td>1.276618</td>\n",
       "      <td>1.028349</td>\n",
       "      <td>1.032339</td>\n",
       "    </tr>\n",
       "    <tr>\n",
       "      <th>min</th>\n",
       "      <td>1.000000</td>\n",
       "      <td>1.000000</td>\n",
       "      <td>1.000000</td>\n",
       "      <td>1.000000</td>\n",
       "    </tr>\n",
       "    <tr>\n",
       "      <th>25%</th>\n",
       "      <td>2.000000</td>\n",
       "      <td>2.000000</td>\n",
       "      <td>3.000000</td>\n",
       "      <td>3.000000</td>\n",
       "    </tr>\n",
       "    <tr>\n",
       "      <th>50%</th>\n",
       "      <td>3.000000</td>\n",
       "      <td>3.000000</td>\n",
       "      <td>4.000000</td>\n",
       "      <td>4.000000</td>\n",
       "    </tr>\n",
       "    <tr>\n",
       "      <th>75%</th>\n",
       "      <td>4.000000</td>\n",
       "      <td>4.000000</td>\n",
       "      <td>4.000000</td>\n",
       "      <td>4.000000</td>\n",
       "    </tr>\n",
       "    <tr>\n",
       "      <th>max</th>\n",
       "      <td>5.000000</td>\n",
       "      <td>5.000000</td>\n",
       "      <td>5.000000</td>\n",
       "      <td>5.000000</td>\n",
       "    </tr>\n",
       "  </tbody>\n",
       "</table>\n",
       "</div>"
      ],
      "text/plain": [
       "       Peer pressure  Academic pressure from your home  \\\n",
       "count     140.000000                        140.000000   \n",
       "mean        3.071429                          3.178571   \n",
       "std         1.083844                          1.276618   \n",
       "min         1.000000                          1.000000   \n",
       "25%         2.000000                          2.000000   \n",
       "50%         3.000000                          3.000000   \n",
       "75%         4.000000                          4.000000   \n",
       "max         5.000000                          5.000000   \n",
       "\n",
       "       What would you rate the academic  competition in your student life  \\\n",
       "count                                         140.000000                    \n",
       "mean                                            3.492857                    \n",
       "std                                             1.028349                    \n",
       "min                                             1.000000                    \n",
       "25%                                             3.000000                    \n",
       "50%                                             4.000000                    \n",
       "75%                                             4.000000                    \n",
       "max                                             5.000000                    \n",
       "\n",
       "       Rate your academic stress index   \n",
       "count                        140.000000  \n",
       "mean                           3.721429  \n",
       "std                            1.032339  \n",
       "min                            1.000000  \n",
       "25%                            3.000000  \n",
       "50%                            4.000000  \n",
       "75%                            4.000000  \n",
       "max                            5.000000  "
      ]
     },
     "execution_count": 10,
     "metadata": {},
     "output_type": "execute_result"
    }
   ],
   "source": [
    "data.describe()"
   ]
  },
  {
   "cell_type": "code",
   "execution_count": 11,
   "id": "6d5fb8a2",
   "metadata": {},
   "outputs": [
    {
     "data": {
      "text/plain": [
       "Timestamp                                                              0\n",
       "Your Academic Stage                                                    0\n",
       "Peer pressure                                                          0\n",
       "Academic pressure from your home                                       0\n",
       "Study Environment                                                      1\n",
       "What coping strategy you use as a student?                             0\n",
       "Do you have any bad habits like smoking, drinking on a daily basis?    0\n",
       "What would you rate the academic  competition in your student life     0\n",
       "Rate your academic stress index                                        0\n",
       "dtype: int64"
      ]
     },
     "execution_count": 11,
     "metadata": {},
     "output_type": "execute_result"
    }
   ],
   "source": [
    "data.isnull().sum()"
   ]
  },
  {
   "cell_type": "code",
   "execution_count": 13,
   "id": "f593f098",
   "metadata": {},
   "outputs": [
    {
     "data": {
      "text/plain": [
       "np.int64(0)"
      ]
     },
     "execution_count": 13,
     "metadata": {},
     "output_type": "execute_result"
    }
   ],
   "source": [
    "data.duplicated().sum()"
   ]
  },
  {
   "cell_type": "markdown",
   "id": "1d9e73f7",
   "metadata": {},
   "source": [
    "data.skew()"
   ]
  },
  {
   "cell_type": "code",
   "execution_count": 17,
   "id": "2dba56c2",
   "metadata": {},
   "outputs": [
    {
     "data": {
      "text/plain": [
       "Peer pressure                                                        -0.109149\n",
       "Academic pressure from your home                                     -0.109292\n",
       "What would you rate the academic  competition in your student life   -0.504026\n",
       "Rate your academic stress index                                      -0.730882\n",
       "dtype: float64"
      ]
     },
     "execution_count": 17,
     "metadata": {},
     "output_type": "execute_result"
    }
   ],
   "source": [
    "data.select_dtypes(include='number').skew()\n",
    "#disini tidak ada yang skew (limit 0.75) so kita lanjutkan saja"
   ]
  },
  {
   "cell_type": "code",
   "execution_count": 18,
   "id": "b62e76bb",
   "metadata": {},
   "outputs": [
    {
     "data": {
      "text/plain": [
       "<Axes: xlabel='Study Environment', ylabel='count'>"
      ]
     },
     "execution_count": 18,
     "metadata": {},
     "output_type": "execute_result"
    },
    {
     "data": {
      "image/png": "[encoded data removed]",
      "text/plain": [
       "<Figure size 640x480 with 1 Axes>"
      ]
     },
     "metadata": {},
     "output_type": "display_data"
    }
   ],
   "source": [
    "sns.countplot(data, x='Study Environment')"
   ]
  },
  {
   "cell_type": "code",
   "execution_count": 19,
   "id": "62219b50",
   "metadata": {},
   "outputs": [
    {
     "data": {
      "text/plain": [
       "Study Environment\n",
       "Peaceful     69\n",
       "disrupted    38\n",
       "Noisy        32\n",
       "Name: count, dtype: int64"
      ]
     },
     "execution_count": 19,
     "metadata": {},
     "output_type": "execute_result"
    }
   ],
   "source": [
    "data['Study Environment'].value_counts()"
   ]
  },
  {
   "cell_type": "code",
   "execution_count": 20,
   "id": "0af62f52",
   "metadata": {},
   "outputs": [
    {
     "data": {
      "text/plain": [
       "<Axes: xlabel='Rate your academic stress index ', ylabel='count'>"
      ]
     },
     "execution_count": 20,
     "metadata": {},
     "output_type": "execute_result"
    },
    {
     "data": {
      "image/png": "[encoded data removed]",
      "text/plain": [
       "<Figure size 640x480 with 1 Axes>"
      ]
     },
     "metadata": {},
     "output_type": "display_data"
    }
   ],
   "source": [
    "sns.countplot(data, x='Rate your academic stress index ', hue='Study Environment')\n",
    "#Tingkat 1 = paling enjoy, tingkat 5= paling stress\n",
    "#Dari grqfik, yang mempnegaruhi smekain stres adalah karena kondisi DISRUPTED nya pada Study Enviroment\n",
    "#Tapi yang aneh kok PEACEFUL banyak pada indesx stress 4?"
   ]
  },
  {
   "cell_type": "code",
   "execution_count": 21,
   "id": "a9400627",
   "metadata": {},
   "outputs": [
    {
     "data": {
      "text/plain": [
       "<Axes: xlabel='Study Environment', ylabel='Rate your academic stress index '>"
      ]
     },
     "execution_count": 21,
     "metadata": {},
     "output_type": "execute_result"
    },
    {
     "data": {
      "image/png": "[encoded data removed]",
      "text/plain": [
       "<Figure size 640x480 with 1 Axes>"
      ]
     },
     "metadata": {},
     "output_type": "display_data"
    }
   ],
   "source": [
    "sns.barplot(data=data, x='Study Environment', y='Rate your academic stress index ', estimator=np.mean)"
   ]
  },
  {
   "cell_type": "code",
   "execution_count": 22,
   "id": "7383b8a8",
   "metadata": {},
   "outputs": [
    {
     "data": {
      "text/plain": [
       "<Axes: xlabel='Rate your academic stress index ', ylabel='Academic pressure from your home'>"
      ]
     },
     "execution_count": 22,
     "metadata": {},
     "output_type": "execute_result"
    },
    {
     "data": {
      "image/png": "[encoded data removed]",
      "text/plain": [
       "<Figure size 640x480 with 1 Axes>"
      ]
     },
     "metadata": {},
     "output_type": "display_data"
    }
   ],
   "source": [
    "sns.barplot(data, y='Academic pressure from your home', x='Rate your academic stress index ', estimator=np.mean)\n",
    "#oke, berarti preaddure dari rumah berbanding lurus dengan tingkat stress"
   ]
  },
  {
   "cell_type": "code",
   "execution_count": 28,
   "id": "4bdedcaa",
   "metadata": {},
   "outputs": [
    {
     "data": {
      "image/png": "[encoded data removed]",
      "text/plain": [
       "<Figure size 1000x600 with 1 Axes>"
      ]
     },
     "metadata": {},
     "output_type": "display_data"
    }
   ],
   "source": [
    "plt.figure(figsize=(10,6))\n",
    "sns.countplot(data, x='Rate your academic stress index ', hue='What would you rate the academic  competition in your student life', palette='plasma')\n",
    "plt.show()\n",
    "#semuanya berbanding lurus. Dan nek ak lihat, tingkat stress 3-5, yang ada korelasi dengan tingkat kompetisi yg tinggi (tingkat 4)"
   ]
  },
  {
   "cell_type": "code",
   "execution_count": 30,
   "id": "c198b3ca",
   "metadata": {},
   "outputs": [
    {
     "data": {
      "text/plain": [
       "<Axes: xlabel='Rate your academic stress index ', ylabel='count'>"
      ]
     },
     "execution_count": 30,
     "metadata": {},
     "output_type": "execute_result"
    },
    {
     "data": {
      "image/png": "[encoded data removed]",
      "text/plain": [
       "<Figure size 640x480 with 1 Axes>"
      ]
     },
     "metadata": {},
     "output_type": "display_data"
    }
   ],
   "source": [
    "sns.countplot(data, hue='Peer pressure', x='Rate your academic stress index ', palette='plasma')"
   ]
  },
  {
   "cell_type": "markdown",
   "id": "01034e17",
   "metadata": {},
   "source": [
    "## Feature Engineering"
   ]
  },
  {
   "cell_type": "code",
   "execution_count": 31,
   "id": "64e6f25b",
   "metadata": {},
   "outputs": [
    {
     "name": "stderr",
     "output_type": "stream",
     "text": [
      "C:\\Users\\Dell\\AppData\\Local\\Temp\\ipykernel_15080\\3153454013.py:1: FutureWarning: A value is trying to be set on a copy of a DataFrame or Series through chained assignment using an inplace method.\n",
      "The behavior will change in pandas 3.0. This inplace method will never work because the intermediate object on which we are setting values always behaves as a copy.\n",
      "\n",
      "For example, when doing 'df[col].method(value, inplace=True)', try using 'df.method({col: value}, inplace=True)' or df[col] = df[col].method(value) instead, to perform the operation inplace on the original object.\n",
      "\n",
      "\n",
      "  data['Study Environment'].fillna('Peaceful', inplace=True)\n"
     ]
    }
   ],
   "source": [
    "data['Study Environment'].fillna('Peaceful', inplace=True)"
   ]
  },
  {
   "cell_type": "code",
   "execution_count": 32,
   "id": "f4d4b618",
   "metadata": {},
   "outputs": [
    {
     "data": {
      "text/plain": [
       "Timestamp                                                              0\n",
       "Your Academic Stage                                                    0\n",
       "Peer pressure                                                          0\n",
       "Academic pressure from your home                                       0\n",
       "Study Environment                                                      0\n",
       "What coping strategy you use as a student?                             0\n",
       "Do you have any bad habits like smoking, drinking on a daily basis?    0\n",
       "What would you rate the academic  competition in your student life     0\n",
       "Rate your academic stress index                                        0\n",
       "dtype: int64"
      ]
     },
     "execution_count": 32,
     "metadata": {},
     "output_type": "execute_result"
    }
   ],
   "source": [
    "data.isnull().sum()"
   ]
  },
  {
   "cell_type": "code",
   "execution_count": 33,
   "id": "870a4c95",
   "metadata": {},
   "outputs": [
    {
     "data": {
      "text/plain": [
       "Do you have any bad habits like smoking, drinking on a daily basis?\n",
       "No                   123\n",
       "Yes                   10\n",
       "prefer not to say      7\n",
       "Name: count, dtype: int64"
      ]
     },
     "execution_count": 33,
     "metadata": {},
     "output_type": "execute_result"
    }
   ],
   "source": [
    "data['Do you have any bad habits like smoking, drinking on a daily basis?'].value_counts()"
   ]
  },
  {
   "cell_type": "code",
   "execution_count": 34,
   "id": "6cbfc509",
   "metadata": {},
   "outputs": [],
   "source": [
    "data2 = data.copy()"
   ]
  },
  {
   "cell_type": "code",
   "execution_count": 35,
   "id": "50a724c4",
   "metadata": {},
   "outputs": [],
   "source": [
    "data2 = data2.rename(columns={\"Your Academic Stage\":\"Academic Stage\"\n",
    "                     , \"Academic pressure from your home\":\"Home Pressure\",\n",
    "                     \"What coping strategy you use as a student?\":\"Copying Strategy\",\n",
    "                     \"Do you have any bad habits like smoking, drinking on a daily basis?\":\"Bad Habits\",\n",
    "                     \"What would you rate the academic  competition in your student life\":\"Academic Competition Index\",\n",
    "                     \"Rate your academic stress index \":\"Stress Index\"})\n",
    "data2 = data2.drop(columns=['Timestamp','Academic Stage'],axis=1, inplace=False)\n"
   ]
  },
  {
   "cell_type": "code",
   "execution_count": 36,
   "id": "f57de96e",
   "metadata": {},
   "outputs": [
    {
     "data": {
      "text/html": [
       "<div>\n",
       "<style scoped>\n",
       "    .dataframe tbody tr th:only-of-type {\n",
       "        vertical-align: middle;\n",
       "    }\n",
       "\n",
       "    .dataframe tbody tr th {\n",
       "        vertical-align: top;\n",
       "    }\n",
       "\n",
       "    .dataframe thead th {\n",
       "        text-align: right;\n",
       "    }\n",
       "</style>\n",
       "<table border=\"1\" class=\"dataframe\">\n",
       "  <thead>\n",
       "    <tr style=\"text-align: right;\">\n",
       "      <th></th>\n",
       "      <th>Peer pressure</th>\n",
       "      <th>Home Pressure</th>\n",
       "      <th>Study Environment</th>\n",
       "      <th>Copying Strategy</th>\n",
       "      <th>Bad Habits</th>\n",
       "      <th>Academic Competition Index</th>\n",
       "      <th>Stress Index</th>\n",
       "    </tr>\n",
       "  </thead>\n",
       "  <tbody>\n",
       "    <tr>\n",
       "      <th>0</th>\n",
       "      <td>4</td>\n",
       "      <td>5</td>\n",
       "      <td>Noisy</td>\n",
       "      <td>Analyze the situation and handle it with intel...</td>\n",
       "      <td>No</td>\n",
       "      <td>3</td>\n",
       "      <td>5</td>\n",
       "    </tr>\n",
       "    <tr>\n",
       "      <th>1</th>\n",
       "      <td>3</td>\n",
       "      <td>4</td>\n",
       "      <td>Peaceful</td>\n",
       "      <td>Analyze the situation and handle it with intel...</td>\n",
       "      <td>No</td>\n",
       "      <td>3</td>\n",
       "      <td>3</td>\n",
       "    </tr>\n",
       "    <tr>\n",
       "      <th>2</th>\n",
       "      <td>1</td>\n",
       "      <td>1</td>\n",
       "      <td>Peaceful</td>\n",
       "      <td>Social support (friends, family)</td>\n",
       "      <td>No</td>\n",
       "      <td>2</td>\n",
       "      <td>4</td>\n",
       "    </tr>\n",
       "    <tr>\n",
       "      <th>3</th>\n",
       "      <td>3</td>\n",
       "      <td>2</td>\n",
       "      <td>Peaceful</td>\n",
       "      <td>Analyze the situation and handle it with intel...</td>\n",
       "      <td>No</td>\n",
       "      <td>4</td>\n",
       "      <td>3</td>\n",
       "    </tr>\n",
       "    <tr>\n",
       "      <th>4</th>\n",
       "      <td>3</td>\n",
       "      <td>3</td>\n",
       "      <td>Peaceful</td>\n",
       "      <td>Analyze the situation and handle it with intel...</td>\n",
       "      <td>No</td>\n",
       "      <td>4</td>\n",
       "      <td>5</td>\n",
       "    </tr>\n",
       "  </tbody>\n",
       "</table>\n",
       "</div>"
      ],
      "text/plain": [
       "   Peer pressure  Home Pressure Study Environment  \\\n",
       "0              4              5             Noisy   \n",
       "1              3              4          Peaceful   \n",
       "2              1              1          Peaceful   \n",
       "3              3              2          Peaceful   \n",
       "4              3              3          Peaceful   \n",
       "\n",
       "                                    Copying Strategy Bad Habits  \\\n",
       "0  Analyze the situation and handle it with intel...         No   \n",
       "1  Analyze the situation and handle it with intel...         No   \n",
       "2                   Social support (friends, family)         No   \n",
       "3  Analyze the situation and handle it with intel...         No   \n",
       "4  Analyze the situation and handle it with intel...         No   \n",
       "\n",
       "   Academic Competition Index  Stress Index  \n",
       "0                           3             5  \n",
       "1                           3             3  \n",
       "2                           2             4  \n",
       "3                           4             3  \n",
       "4                           4             5  "
      ]
     },
     "execution_count": 36,
     "metadata": {},
     "output_type": "execute_result"
    }
   ],
   "source": [
    "data2.head()"
   ]
  },
  {
   "cell_type": "code",
   "execution_count": 37,
   "id": "e324a113",
   "metadata": {},
   "outputs": [
    {
     "data": {
      "text/plain": [
       "Copying Strategy\n",
       "Analyze the situation and handle it with intellect    87\n",
       "Emotional breakdown (crying a lot)                    32\n",
       "Social support (friends, family)                      21\n",
       "Name: count, dtype: int64"
      ]
     },
     "execution_count": 37,
     "metadata": {},
     "output_type": "execute_result"
    }
   ],
   "source": [
    "data2['Copying Strategy'].value_counts()"
   ]
  },
  {
   "cell_type": "code",
   "execution_count": 38,
   "id": "8c127a79",
   "metadata": {},
   "outputs": [
    {
     "data": {
      "text/plain": [
       "Bad Habits\n",
       "No                   123\n",
       "Yes                   10\n",
       "prefer not to say      7\n",
       "Name: count, dtype: int64"
      ]
     },
     "execution_count": 38,
     "metadata": {},
     "output_type": "execute_result"
    }
   ],
   "source": [
    "data2['Bad Habits'].value_counts()"
   ]
  },
  {
   "cell_type": "code",
   "execution_count": 39,
   "id": "779a3ae9",
   "metadata": {},
   "outputs": [
    {
     "name": "stdout",
     "output_type": "stream",
     "text": [
      "123 10 133\n",
      "\n",
      "0.924812030075188 0.07518796992481203\n"
     ]
    }
   ],
   "source": [
    "no_count = data2['Bad Habits'].value_counts().get('No', 0)\n",
    "yes_count = data2['Bad Habits'].value_counts().get('Yes', 0)\n",
    "total = no_count + yes_count\n",
    "print(no_count, yes_count, total)\n",
    "print()\n",
    "\n",
    "# Calculate proportions\n",
    "no_prop = no_count / total if total > 0 else 0\n",
    "yes_prop = yes_count / total if total > 0 else 0\n",
    "print(no_prop, yes_prop)\n",
    "# Find indices of 'prefer not to say'\n",
    "prefer_idx = data2[data2['Bad Habits'] == 'prefer not to say'].index\n",
    "\n",
    "# Number to assign to 'No' and 'Yes'\n",
    "assign_no = int(len(prefer_idx) * no_prop)\n",
    "assign_yes = len(prefer_idx) - assign_no\n",
    "\n",
    "# Assign values\n",
    "data2.loc[prefer_idx[:assign_no], 'Bad Habits'] = 'No'\n",
    "data2.loc[prefer_idx[assign_no:], 'Bad Habits'] = 'Yes'"
   ]
  },
  {
   "cell_type": "code",
   "execution_count": 40,
   "id": "2d4c6a0f",
   "metadata": {},
   "outputs": [
    {
     "data": {
      "text/plain": [
       "Bad Habits\n",
       "No     129\n",
       "Yes     11\n",
       "Name: count, dtype: int64"
      ]
     },
     "execution_count": 40,
     "metadata": {},
     "output_type": "execute_result"
    }
   ],
   "source": [
    "data2['Bad Habits'].value_counts()"
   ]
  },
  {
   "cell_type": "code",
   "execution_count": 42,
   "id": "0788d977",
   "metadata": {},
   "outputs": [],
   "source": [
    "col_to_encode = data2.select_dtypes('object').columns  # <- just the column names\n",
    "\n",
    "oh = OneHotEncoder(sparse_output=False) #nek dalam param drop='first' maka akan emgnhilangkan kolom pertama dari hasil one hot encoding\n",
    "\n",
    "one_hot_encoded = oh.fit_transform(data2[col_to_encode])\n",
    "\n",
    "one_hot_df = pd.DataFrame(\n",
    "    one_hot_encoded,\n",
    "    columns=oh.get_feature_names_out(col_to_encode),\n",
    "    index=data2.index\n",
    ")\n",
    "\n",
    "# Drop original categorical columns and join\n",
    "data2 = pd.concat([data2.drop(col_to_encode, axis=1), one_hot_df], axis=1)\n"
   ]
  },
  {
   "cell_type": "code",
   "execution_count": 43,
   "id": "686eef35",
   "metadata": {},
   "outputs": [
    {
     "data": {
      "text/html": [
       "<div>\n",
       "<style scoped>\n",
       "    .dataframe tbody tr th:only-of-type {\n",
       "        vertical-align: middle;\n",
       "    }\n",
       "\n",
       "    .dataframe tbody tr th {\n",
       "        vertical-align: top;\n",
       "    }\n",
       "\n",
       "    .dataframe thead th {\n",
       "        text-align: right;\n",
       "    }\n",
       "</style>\n",
       "<table border=\"1\" class=\"dataframe\">\n",
       "  <thead>\n",
       "    <tr style=\"text-align: right;\">\n",
       "      <th></th>\n",
       "      <th>Peer pressure</th>\n",
       "      <th>Home Pressure</th>\n",
       "      <th>Academic Competition Index</th>\n",
       "      <th>Stress Index</th>\n",
       "      <th>Study Environment_Noisy</th>\n",
       "      <th>Study Environment_Peaceful</th>\n",
       "      <th>Study Environment_disrupted</th>\n",
       "      <th>Copying Strategy_Analyze the situation and handle it with intellect</th>\n",
       "      <th>Copying Strategy_Emotional breakdown (crying a lot)</th>\n",
       "      <th>Copying Strategy_Social support (friends, family)</th>\n",
       "      <th>Bad Habits_No</th>\n",
       "      <th>Bad Habits_Yes</th>\n",
       "    </tr>\n",
       "  </thead>\n",
       "  <tbody>\n",
       "    <tr>\n",
       "      <th>0</th>\n",
       "      <td>4</td>\n",
       "      <td>5</td>\n",
       "      <td>3</td>\n",
       "      <td>5</td>\n",
       "      <td>1.0</td>\n",
       "      <td>0.0</td>\n",
       "      <td>0.0</td>\n",
       "      <td>1.0</td>\n",
       "      <td>0.0</td>\n",
       "      <td>0.0</td>\n",
       "      <td>1.0</td>\n",
       "      <td>0.0</td>\n",
       "    </tr>\n",
       "    <tr>\n",
       "      <th>1</th>\n",
       "      <td>3</td>\n",
       "      <td>4</td>\n",
       "      <td>3</td>\n",
       "      <td>3</td>\n",
       "      <td>0.0</td>\n",
       "      <td>1.0</td>\n",
       "      <td>0.0</td>\n",
       "      <td>1.0</td>\n",
       "      <td>0.0</td>\n",
       "      <td>0.0</td>\n",
       "      <td>1.0</td>\n",
       "      <td>0.0</td>\n",
       "    </tr>\n",
       "    <tr>\n",
       "      <th>2</th>\n",
       "      <td>1</td>\n",
       "      <td>1</td>\n",
       "      <td>2</td>\n",
       "      <td>4</td>\n",
       "      <td>0.0</td>\n",
       "      <td>1.0</td>\n",
       "      <td>0.0</td>\n",
       "      <td>0.0</td>\n",
       "      <td>0.0</td>\n",
       "      <td>1.0</td>\n",
       "      <td>1.0</td>\n",
       "      <td>0.0</td>\n",
       "    </tr>\n",
       "    <tr>\n",
       "      <th>3</th>\n",
       "      <td>3</td>\n",
       "      <td>2</td>\n",
       "      <td>4</td>\n",
       "      <td>3</td>\n",
       "      <td>0.0</td>\n",
       "      <td>1.0</td>\n",
       "      <td>0.0</td>\n",
       "      <td>1.0</td>\n",
       "      <td>0.0</td>\n",
       "      <td>0.0</td>\n",
       "      <td>1.0</td>\n",
       "      <td>0.0</td>\n",
       "    </tr>\n",
       "    <tr>\n",
       "      <th>4</th>\n",
       "      <td>3</td>\n",
       "      <td>3</td>\n",
       "      <td>4</td>\n",
       "      <td>5</td>\n",
       "      <td>0.0</td>\n",
       "      <td>1.0</td>\n",
       "      <td>0.0</td>\n",
       "      <td>1.0</td>\n",
       "      <td>0.0</td>\n",
       "      <td>0.0</td>\n",
       "      <td>1.0</td>\n",
       "      <td>0.0</td>\n",
       "    </tr>\n",
       "    <tr>\n",
       "      <th>...</th>\n",
       "      <td>...</td>\n",
       "      <td>...</td>\n",
       "      <td>...</td>\n",
       "      <td>...</td>\n",
       "      <td>...</td>\n",
       "      <td>...</td>\n",
       "      <td>...</td>\n",
       "      <td>...</td>\n",
       "      <td>...</td>\n",
       "      <td>...</td>\n",
       "      <td>...</td>\n",
       "      <td>...</td>\n",
       "    </tr>\n",
       "    <tr>\n",
       "      <th>135</th>\n",
       "      <td>3</td>\n",
       "      <td>2</td>\n",
       "      <td>3</td>\n",
       "      <td>4</td>\n",
       "      <td>0.0</td>\n",
       "      <td>1.0</td>\n",
       "      <td>0.0</td>\n",
       "      <td>1.0</td>\n",
       "      <td>0.0</td>\n",
       "      <td>0.0</td>\n",
       "      <td>1.0</td>\n",
       "      <td>0.0</td>\n",
       "    </tr>\n",
       "    <tr>\n",
       "      <th>136</th>\n",
       "      <td>4</td>\n",
       "      <td>2</td>\n",
       "      <td>3</td>\n",
       "      <td>3</td>\n",
       "      <td>0.0</td>\n",
       "      <td>0.0</td>\n",
       "      <td>1.0</td>\n",
       "      <td>1.0</td>\n",
       "      <td>0.0</td>\n",
       "      <td>0.0</td>\n",
       "      <td>1.0</td>\n",
       "      <td>0.0</td>\n",
       "    </tr>\n",
       "    <tr>\n",
       "      <th>137</th>\n",
       "      <td>3</td>\n",
       "      <td>3</td>\n",
       "      <td>2</td>\n",
       "      <td>4</td>\n",
       "      <td>0.0</td>\n",
       "      <td>1.0</td>\n",
       "      <td>0.0</td>\n",
       "      <td>1.0</td>\n",
       "      <td>0.0</td>\n",
       "      <td>0.0</td>\n",
       "      <td>1.0</td>\n",
       "      <td>0.0</td>\n",
       "    </tr>\n",
       "    <tr>\n",
       "      <th>138</th>\n",
       "      <td>4</td>\n",
       "      <td>5</td>\n",
       "      <td>5</td>\n",
       "      <td>5</td>\n",
       "      <td>0.0</td>\n",
       "      <td>0.0</td>\n",
       "      <td>1.0</td>\n",
       "      <td>0.0</td>\n",
       "      <td>0.0</td>\n",
       "      <td>1.0</td>\n",
       "      <td>1.0</td>\n",
       "      <td>0.0</td>\n",
       "    </tr>\n",
       "    <tr>\n",
       "      <th>139</th>\n",
       "      <td>4</td>\n",
       "      <td>2</td>\n",
       "      <td>4</td>\n",
       "      <td>4</td>\n",
       "      <td>0.0</td>\n",
       "      <td>1.0</td>\n",
       "      <td>0.0</td>\n",
       "      <td>0.0</td>\n",
       "      <td>0.0</td>\n",
       "      <td>1.0</td>\n",
       "      <td>1.0</td>\n",
       "      <td>0.0</td>\n",
       "    </tr>\n",
       "  </tbody>\n",
       "</table>\n",
       "<p>140 rows × 12 columns</p>\n",
       "</div>"
      ],
      "text/plain": [
       "     Peer pressure  Home Pressure  Academic Competition Index  Stress Index  \\\n",
       "0                4              5                           3             5   \n",
       "1                3              4                           3             3   \n",
       "2                1              1                           2             4   \n",
       "3                3              2                           4             3   \n",
       "4                3              3                           4             5   \n",
       "..             ...            ...                         ...           ...   \n",
       "135              3              2                           3             4   \n",
       "136              4              2                           3             3   \n",
       "137              3              3                           2             4   \n",
       "138              4              5                           5             5   \n",
       "139              4              2                           4             4   \n",
       "\n",
       "     Study Environment_Noisy  Study Environment_Peaceful  \\\n",
       "0                        1.0                         0.0   \n",
       "1                        0.0                         1.0   \n",
       "2                        0.0                         1.0   \n",
       "3                        0.0                         1.0   \n",
       "4                        0.0                         1.0   \n",
       "..                       ...                         ...   \n",
       "135                      0.0                         1.0   \n",
       "136                      0.0                         0.0   \n",
       "137                      0.0                         1.0   \n",
       "138                      0.0                         0.0   \n",
       "139                      0.0                         1.0   \n",
       "\n",
       "     Study Environment_disrupted  \\\n",
       "0                            0.0   \n",
       "1                            0.0   \n",
       "2                            0.0   \n",
       "3                            0.0   \n",
       "4                            0.0   \n",
       "..                           ...   \n",
       "135                          0.0   \n",
       "136                          1.0   \n",
       "137                          0.0   \n",
       "138                          1.0   \n",
       "139                          0.0   \n",
       "\n",
       "     Copying Strategy_Analyze the situation and handle it with intellect  \\\n",
       "0                                                  1.0                     \n",
       "1                                                  1.0                     \n",
       "2                                                  0.0                     \n",
       "3                                                  1.0                     \n",
       "4                                                  1.0                     \n",
       "..                                                 ...                     \n",
       "135                                                1.0                     \n",
       "136                                                1.0                     \n",
       "137                                                1.0                     \n",
       "138                                                0.0                     \n",
       "139                                                0.0                     \n",
       "\n",
       "     Copying Strategy_Emotional breakdown (crying a lot)  \\\n",
       "0                                                  0.0     \n",
       "1                                                  0.0     \n",
       "2                                                  0.0     \n",
       "3                                                  0.0     \n",
       "4                                                  0.0     \n",
       "..                                                 ...     \n",
       "135                                                0.0     \n",
       "136                                                0.0     \n",
       "137                                                0.0     \n",
       "138                                                0.0     \n",
       "139                                                0.0     \n",
       "\n",
       "     Copying Strategy_Social support (friends, family)  Bad Habits_No  \\\n",
       "0                                                  0.0            1.0   \n",
       "1                                                  0.0            1.0   \n",
       "2                                                  1.0            1.0   \n",
       "3                                                  0.0            1.0   \n",
       "4                                                  0.0            1.0   \n",
       "..                                                 ...            ...   \n",
       "135                                                0.0            1.0   \n",
       "136                                                0.0            1.0   \n",
       "137                                                0.0            1.0   \n",
       "138                                                1.0            1.0   \n",
       "139                                                1.0            1.0   \n",
       "\n",
       "     Bad Habits_Yes  \n",
       "0               0.0  \n",
       "1               0.0  \n",
       "2               0.0  \n",
       "3               0.0  \n",
       "4               0.0  \n",
       "..              ...  \n",
       "135             0.0  \n",
       "136             0.0  \n",
       "137             0.0  \n",
       "138             0.0  \n",
       "139             0.0  \n",
       "\n",
       "[140 rows x 12 columns]"
      ]
     },
     "execution_count": 43,
     "metadata": {},
     "output_type": "execute_result"
    }
   ],
   "source": [
    "data2"
   ]
  },
  {
   "cell_type": "markdown",
   "id": "2ea95a6c",
   "metadata": {},
   "source": [
    "## Modelling"
   ]
  },
  {
   "cell_type": "code",
   "execution_count": 44,
   "id": "083305fd",
   "metadata": {},
   "outputs": [
    {
     "name": "stdout",
     "output_type": "stream",
     "text": [
      "d:\\PROJECT ABAL\\ML Envirom\\.venv\\Scripts\\python.exe\n"
     ]
    }
   ],
   "source": [
    "import sys\n",
    "print(sys.executable)\n"
   ]
  },
  {
   "cell_type": "code",
   "execution_count": 49,
   "id": "89e0a1ce",
   "metadata": {},
   "outputs": [],
   "source": [
    "from sklearn.linear_model import LogisticRegression\n",
    "from sklearn.svm import SVC\n",
    "from sklearn.ensemble import RandomForestClassifier, GradientBoostingClassifier\n",
    "from sklearn.neighbors import KNeighborsClassifier\n",
    "from xgboost import XGBClassifier\n",
    "from sklearn.model_selection import train_test_split\n",
    "from sklearn.preprocessing import StandardScaler\n",
    "from sklearn.model_selection import GridSearchCV, RandomizedSearchCV #untuk menentukan hypertuning\n",
    "from sklearn.metrics import classification_report, confusion_matrix, accuracy_score\n",
    "from sklearn.datasets import make_classification\n",
    "# from imblearn import under_sampling, over_sampling\n",
    "from collections import Counter"
   ]
  },
  {
   "cell_type": "code",
   "execution_count": 46,
   "id": "c149c927",
   "metadata": {},
   "outputs": [
    {
     "name": "stderr",
     "output_type": "stream",
     "text": [
      "'d:\\PROJECT' is not recognized as an internal or external command,\n",
      "operable program or batch file.\n"
     ]
    }
   ],
   "source": [
    "!{sys.executable} -m pip show pandas\n"
   ]
  },
  {
   "cell_type": "code",
   "execution_count": 53,
   "id": "9dae1f84",
   "metadata": {},
   "outputs": [],
   "source": [
    "data_scaled = data2.copy()"
   ]
  },
  {
   "cell_type": "code",
   "execution_count": 68,
   "id": "40e0e606",
   "metadata": {},
   "outputs": [],
   "source": [
    "# ...existing code...\n",
    "x_to_scaled = data_scaled.drop(columns= 'Stress Index', axis=1)\n",
    "y_to_scaled = data_scaled['Stress Index']\n",
    "x = data2.drop(columns= 'Stress Index', axis=1)\n",
    "y = data2['Stress Index']\n",
    "\n",
    "x, y = make_classification(n_classes=5,class_sep=5,weights=[0.1,0.3,0.5,0.7,0.9],n_samples=1000, n_features=20, n_informative=5, n_redundant=10, random_state=42)\n",
    "x_to_scaled, y_to_scaled = make_classification(n_classes=5,class_sep=5,weights=[0.1,0.3,0.5,0.7,0.9],n_samples=1000, n_features=20, n_informative=5, n_redundant=10, random_state=42)\n",
    "\n",
    "# Subtract 1 so labels start from 0\n",
    "# y = y - 1\n",
    "# y_to_scaled = y_to_scaled - 1\n",
    "\n",
    "# ...existing code...\n",
    "xtest_toscaled, xtrain_toscaled, ytest_toscaled, ytrain_toscaled = train_test_split(x_to_scaled, y_to_scaled, test_size=0.2, random_state=42)\n",
    "xtrain, xtest, ytrain, ytest = train_test_split(x, y, test_size=0.2, random_state=42)\n",
    "# ...existing code..."
   ]
  },
  {
   "cell_type": "code",
   "execution_count": 72,
   "id": "bd106ef2",
   "metadata": {},
   "outputs": [
    {
     "name": "stdout",
     "output_type": "stream",
     "text": [
      "3    0.350\n",
      "2    0.255\n",
      "1    0.185\n",
      "4    0.155\n",
      "0    0.055\n",
      "Name: proportion, dtype: float64\n",
      "\n",
      "3    0.34625\n",
      "2    0.24500\n",
      "4    0.21375\n",
      "1    0.14125\n",
      "0    0.05375\n",
      "Name: proportion, dtype: float64\n"
     ]
    }
   ],
   "source": [
    "print(pd.Series(ytrain_toscaled).value_counts(normalize=True))\n",
    "print()\n",
    "print(pd.Series(ytrain).value_counts(normalize=True))"
   ]
  },
  {
   "cell_type": "code",
   "execution_count": null,
   "id": "bf0a6880",
   "metadata": {},
   "outputs": [],
   "source": [
    "# xtest_toscaled, xtrain_toscaled, ytest_toscaled, ytrain_toscaled = train_test_split(x_to_scaled, y_to_scaled, test_size=0.2, random_state=42)\n",
    "# xtrain, xtest, ytrain, ytest = train_test_split(x, y, test_size=0.2, random_state=42)"
   ]
  },
  {
   "cell_type": "code",
   "execution_count": 73,
   "id": "374ac2fd",
   "metadata": {},
   "outputs": [],
   "source": [
    "#normalisasi hanya digunakan untuk model yang yang berbasis gradient, pola, distance (SVM,KNN, Regression)\n",
    "scaler = StandardScaler()\n",
    "scaler.fit(xtrain_toscaled)\n",
    "xtrain_toscaled = scaler.transform(xtrain_toscaled)\n",
    "xtest_toscaled = scaler.transform(xtest_toscaled)"
   ]
  },
  {
   "cell_type": "code",
   "execution_count": 74,
   "id": "6a8d92ac",
   "metadata": {},
   "outputs": [],
   "source": [
    "models_scaled = {\"LR\": LogisticRegression(),\n",
    "          \"SVC\": SVC(),\n",
    "          \"KNN\":KNeighborsClassifier()\n",
    "\n",
    "          }\n",
    "models = {\"RFC\":RandomForestClassifier(),\n",
    "          \"GBC\": GradientBoostingClassifier(),\n",
    "          \"XGB\": XGBClassifier()}\n",
    "\n",
    "# Define parameter grids\n",
    "param_scaling_grids = {\n",
    "    \"KNN\": {\n",
    "        \"n_neighbors\": [3, 5, 7, 9],\n",
    "        \"weights\": [\"uniform\", \"distance\"]\n",
    "    },\n",
    "    \"LR\": {\n",
    "        \"C\": [0.01, 0.1, 1, 10],\n",
    "        \"solver\": [\"liblinear\", \"lbfgs\"]\n",
    "    },\n",
    "    \"SVC\": {\n",
    "        \"C\": [0.1, 1, 10],\n",
    "        \"kernel\": [\"linear\", \"rbf\", \"poly\"],\n",
    "        \"gamma\": [\"scale\", \"auto\"]\n",
    "    }}\n",
    "\n",
    "params_grid ={\n",
    "    \"RFC\": {\n",
    "        \"n_estimators\": [100, 200],\n",
    "        \"max_depth\": [None, 10, 20],\n",
    "        \"min_samples_split\": [2, 5]\n",
    "    },\n",
    "    \"GBC\": {\n",
    "        \"n_estimators\": [100, 200],\n",
    "        \"learning_rate\": [0.01, 0.1, 0.2],\n",
    "        \"max_depth\": [3, 5, 7]\n",
    "    },\n",
    "    \"XGB\": {\n",
    "        \"n_estimators\": [100, 200, 300],\n",
    "        \"max_depth\": [3, 5, 7],\n",
    "        \"learning_rate\": [0.01, 0.05, 0.1],\n",
    "        \"subsample\": [0.8, 1.0],\n",
    "        \"colsample_bytree\": [0.8, 1.0],\n",
    "        \"min_child_weight\": [1, 3],\n",
    "        \"gamma\": [0, 0.1],\n",
    "        \"reg_alpha\": [0, 0.1],\n",
    "        \"reg_lambda\": [1, 2]\n",
    "    }\n",
    "}\n",
    "\n",
    "# Loop through models and hypertune\n",
    "best_models = {}"
   ]
  },
  {
   "cell_type": "code",
   "execution_count": 78,
   "id": "5e9bd195",
   "metadata": {},
   "outputs": [
    {
     "name": "stdout",
     "output_type": "stream",
     "text": [
      "Hypertuning LR...\n",
      "Best parameters for LR: {'C': 0.1, 'solver': 'lbfgs'}\n",
      "Best CV accuracy: 0.9900\n",
      "\n",
      "Hypertuning SVC...\n",
      "Best parameters for SVC: {'C': 0.1, 'gamma': 'scale', 'kernel': 'linear'}\n",
      "Best CV accuracy: 0.9900\n",
      "\n",
      "Hypertuning KNN...\n",
      "Best parameters for KNN: {'n_neighbors': 3, 'weights': 'uniform'}\n",
      "Best CV accuracy: 0.9900\n",
      "\n",
      "✅ LR test accuracy: 0.9862\n",
      "✅ SVC test accuracy: 0.9888\n",
      "✅ KNN test accuracy: 0.9888\n",
      "✅ RFC test accuracy: 0.4637\n",
      "✅ GBC test accuracy: 0.4587\n",
      "✅ XGB test accuracy: 0.4412\n"
     ]
    }
   ],
   "source": [
    "for name, model in models_scaled.items():\n",
    "    print(f\"Hypertuning {name}...\")\n",
    "    grid = GridSearchCV(estimator=model, param_grid=param_scaling_grids[name], cv=5, n_jobs=-1, scoring='accuracy')\n",
    "    grid.fit(xtrain_toscaled, ytrain_toscaled)\n",
    "    print(f\"Best parameters for {name}: {grid.best_params_}\")\n",
    "    print(f\"Best CV accuracy: {grid.best_score_:.4f}\")\n",
    "    print()\n",
    "    best_models[name] = grid.best_estimator_\n",
    "    \n",
    "    \n",
    "# Evaluate best models on test set\n",
    "for name, model in best_models.items():\n",
    "    y_pred_toscaled = model.predict(xtest_toscaled)\n",
    "    acc = accuracy_score(ytest_toscaled, y_pred_toscaled)\n",
    "    print(f\"✅ {name} test accuracy: {acc:.4f}\")\n",
    "    "
   ]
  },
  {
   "cell_type": "code",
   "execution_count": 76,
   "id": "64c2c877",
   "metadata": {},
   "outputs": [
    {
     "name": "stdout",
     "output_type": "stream",
     "text": [
      "Hypertuning RFC...\n",
      "Best parameters for RFC: {'max_depth': 10, 'min_samples_split': 5, 'n_estimators': 100}\n",
      "Best CV accuracy: 0.9887\n",
      "\n",
      "Hypertuning GBC...\n",
      "Best parameters for GBC: {'learning_rate': 0.1, 'max_depth': 3, 'n_estimators': 100}\n",
      "Best CV accuracy: 0.9825\n",
      "\n",
      "Hypertuning XGB...\n",
      "Best parameters for XGB: {'colsample_bytree': 0.8, 'gamma': 0, 'learning_rate': 0.05, 'max_depth': 5, 'min_child_weight': 3, 'n_estimators': 100, 'reg_alpha': 0, 'reg_lambda': 1, 'subsample': 1.0}\n",
      "Best CV accuracy: 0.9875\n",
      "\n",
      "✅ LR test accuracy: 0.9900\n",
      "✅ SVC test accuracy: 0.9900\n",
      "✅ KNN test accuracy: 0.9800\n",
      "✅ RFC test accuracy: 0.9900\n",
      "✅ GBC test accuracy: 0.9700\n",
      "✅ XGB test accuracy: 0.9850\n"
     ]
    }
   ],
   "source": [
    "# ...existing code...\n",
    "y = data2['Stress Index'] - 1\n",
    "y_to_scaled = data_scaled['Stress Index'] - 1\n",
    "# ...existing code...\n",
    "\n",
    "for name, model in models.items():\n",
    "    print(f\"Hypertuning {name}...\")\n",
    "    grid = GridSearchCV(\n",
    "        estimator=model,\n",
    "        param_grid=params_grid[name],  # fixed variable name here\n",
    "        cv=3,\n",
    "        n_jobs=-1,\n",
    "        scoring=\"accuracy\"\n",
    "    )\n",
    "    grid.fit(xtrain, ytrain)\n",
    "    print(f\"Best parameters for {name}: {grid.best_params_}\")\n",
    "    print(f\"Best CV accuracy: {grid.best_score_:.4f}\")\n",
    "    print()\n",
    "    best_models[name] = grid.best_estimator_\n",
    "\n",
    "# Evaluate on test set\n",
    "for name, model in best_models.items():\n",
    "    y_pred = model.predict(xtest)\n",
    "    acc = accuracy_score(ytest, y_pred)\n",
    "    print(f\"✅ {name} test accuracy: {acc:.4f}\")"
   ]
  },
  {
   "cell_type": "code",
   "execution_count": 81,
   "id": "2c65f965",
   "metadata": {},
   "outputs": [
    {
     "data": {
      "image/png": "[encoded data removed]",
      "text/plain": [
       "<Figure size 640x480 with 2 Axes>"
      ]
     },
     "metadata": {},
     "output_type": "display_data"
    }
   ],
   "source": [
    "cm = confusion_matrix(ytest_toscaled, y_pred_toscaled)\n",
    "sns.heatmap(cm, annot=True, cmap='Blues')\n",
    "plt.xlabel('Predicted')\n",
    "plt.ylabel('Actual')\n",
    "plt.show()"
   ]
  },
  {
   "cell_type": "code",
   "execution_count": 82,
   "id": "e8c64475",
   "metadata": {},
   "outputs": [
    {
     "data": {
      "image/png": "[encoded data removed]",
      "text/plain": [
       "<Figure size 640x480 with 2 Axes>"
      ]
     },
     "metadata": {},
     "output_type": "display_data"
    }
   ],
   "source": [
    "cm = confusion_matrix(ytest, y_pred)\n",
    "sns.heatmap(cm, annot=True, cmap='Blues')\n",
    "plt.xlabel('Predicted')\n",
    "plt.ylabel('Actual')\n",
    "plt.show()\n",
    "#disini lebih kelihatan bersih, hasil predicted JAUH LEBIH bagus daripada tanpa scaling"
   ]
  },
  {
   "cell_type": "code",
   "execution_count": null,
   "id": "02e2396e",
   "metadata": {},
   "outputs": [
    {
     "name": "stdout",
     "output_type": "stream",
     "text": [
      "[4 5 3 5 4 4 3 4 3 3 4 3 4 4 4 3 2 4 4 3 2 3 3 2 4 4 3 5 2 5 4 1 4 4 4 3 4\n",
      " 4 1 4 1 4 4 5 2 5 3 4 3 2 2 3 2 4 2 4 4 4 3 4 3 2 1 5 2 3 2 4 4 5 4 4 4 2\n",
      " 3 4 4 5 4 5 3 4 3 5 4 1 4 2 4 5 4 4 5 4 3 2 5 2 4 4 3 5 4 4 2 5 5 4 3 4 3\n",
      " 2 3 3 2 1 4 2 4 5 3 3 2 4 2 4 5 3 3 5 4 4 2 3 2 3 2 2 3 4 3 3 4 5 2 3 2 3\n",
      " 3 3 4 3 5 5 2 2 4 2 1 3 3 2 4 5 5 3 1 4 3 4 5 3 5 4 3 2 5 5 3 5 4 2 4 3 4\n",
      " 4 2 4 1 2 5 3 3 3 4 4 2 4 4 2]\n"
     ]
    }
   ],
   "source": [
    "# Assuming you have trained RFC and have xtest\n",
    "y_pred_rfc = best_models[\"RFC\"].predict(xtest) +1 #karena label aslinya dari 1-5\n",
    "print(y_pred_rfc)"
   ]
  },
  {
   "cell_type": "code",
   "execution_count": 92,
   "id": "d8242904",
   "metadata": {},
   "outputs": [
    {
     "name": "stdout",
     "output_type": "stream",
     "text": [
      "[[ 9  1  0  1  0]\n",
      " [ 0 37  0  0  0]\n",
      " [ 0  0 51  0  0]\n",
      " [ 0  0  0 70  0]\n",
      " [ 0  0  0  0 31]]\n",
      "              precision    recall  f1-score   support\n",
      "\n",
      "           0       1.00      0.82      0.90        11\n",
      "           1       0.97      1.00      0.99        37\n",
      "           2       1.00      1.00      1.00        51\n",
      "           3       0.99      1.00      0.99        70\n",
      "           4       1.00      1.00      1.00        31\n",
      "\n",
      "    accuracy                           0.99       200\n",
      "   macro avg       0.99      0.96      0.98       200\n",
      "weighted avg       0.99      0.99      0.99       200\n",
      "\n"
     ]
    }
   ],
   "source": [
    "from sklearn.metrics import classification_report, confusion_matrix\n",
    "\n",
    "print(confusion_matrix(ytest, y_pred_rfc))\n",
    "print(classification_report(ytest, y_pred_rfc))\n"
   ]
  },
  {
   "cell_type": "code",
   "execution_count": 105,
   "id": "cc711add",
   "metadata": {},
   "outputs": [
    {
     "name": "stdout",
     "output_type": "stream",
     "text": [
      "[2]\n"
     ]
    }
   ],
   "source": [
    "import numpy as np\n",
    "\n",
    "sample = np.array([[5, 4, 1,5, 5, 2, 5, 5, 1, 3, 2, 4,0,4,2,0,1,0,1,1]])  # just random 1–5s\n",
    "prediction = best_models[\"RFC\"].predict(sample)\n",
    "prediction_adjusted = prediction + 1\n",
    "print(prediction_adjusted)\n"
   ]
  },
  {
   "cell_type": "code",
   "execution_count": 91,
   "id": "cc5e3030",
   "metadata": {},
   "outputs": [
    {
     "name": "stdout",
     "output_type": "stream",
     "text": [
      "Predicted Stress Index: 1\n"
     ]
    },
    {
     "name": "stderr",
     "output_type": "stream",
     "text": [
      "d:\\PROJECT ABAL\\ML Envirom\\.venv\\lib\\site-packages\\sklearn\\utils\\validation.py:2732: UserWarning: X has feature names, but RandomForestClassifier was fitted without feature names\n",
      "  warnings.warn(\n"
     ]
    }
   ],
   "source": [
    "import numpy as np\n",
    "import pandas as pd\n",
    "\n",
    "# Get feature names from xtest\n",
    "feature_names = xtest.columns if isinstance(xtest, pd.DataFrame) else [f\"f{i}\" for i in range(xtest.shape[1])]\n",
    "\n",
    "# Generate a random example (1 row, same number of features)\n",
    "random_example = np.random.rand(1, xtest.shape[1])\n",
    "\n",
    "# If your model expects a DataFrame, convert it\n",
    "random_example_df = pd.DataFrame(random_example, columns=feature_names)\n",
    "\n",
    "# Predict using RFC\n",
    "predicted_stress = best_models[\"RFC\"].predict(random_example_df)\n",
    "print(\"Predicted Stress Index:\", predicted_stress[0])"
   ]
  }
 ],
 "metadata": {
  "kernelspec": {
   "display_name": ".venv",
   "language": "python",
   "name": "python3"
  },
  "language_info": {
   "codemirror_mode": {
    "name": "ipython",
    "version": 3
   },
   "file_extension": ".py",
   "mimetype": "text/x-python",
   "name": "python",
   "nbconvert_exporter": "python",
   "pygments_lexer": "ipython3",
   "version": "3.9.7"
  }
 },
 "nbformat": 4,
 "nbformat_minor": 5
}
